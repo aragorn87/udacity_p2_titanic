{
 "cells": [
  {
   "cell_type": "markdown",
   "metadata": {},
   "source": [
    "# 1. Introduction\n",
    "\n",
    "We have with us the data for 891 passengers who were onboard the Titanic. While we have multiple attributes per passenger like the age, passenger class, number of parents/ siblings on board, port of embarkation, fare, etc; we also have the information whether the passenger survived or not. \n",
    "\n",
    "Through this exercise, we will try to investigate the data set to find out what characteristics were common between passengers who survived. In other words, \n",
    "\n",
    "> ** *What is the relation between the various variables and the chance of survival?* **\n",
    "\n",
    "Throughout the analysis, we would be talking about **mean survival rates** of sub-groups of passengers which should give us a better understanding of which segments had a better chances of survival.\n",
    "\n",
    "Further we will talk about what the supposed correlations tell us and whether they could mean plausible correlations. Further, as we have a subset of the total passengers travelling, we could use t-tests to validate our hypotheses.\n",
    "\n",
    "However, do note that the analysis presented is post-event and specific to Titanic. It does not mean that the findings of this exercise will hold true for other such events in the past or in the future."
   ]
  },
  {
   "cell_type": "markdown",
   "metadata": {},
   "source": [
    "# 2. Data Cleaning\n",
    "\n",
    "In this section, we will explore the given data set while also trying to do some preliminary analysis. We will be checking for data aberrations, empty/ null values and fixing them in an appropriate manner, derive some new features, and pave the ground for drawing conclusions through this exploratory study."
   ]
  },
  {
   "cell_type": "code",
   "execution_count": 329,
   "metadata": {
    "collapsed": false
   },
   "outputs": [],
   "source": [
    "import pandas as pd\n",
    "import numpy as np\n",
    "import matplotlib.pyplot as plt\n",
    "import seaborn as sns\n",
    "%matplotlib inline\n",
    "\n",
    "from IPython.core.interactiveshell import InteractiveShell\n",
    "InteractiveShell.ast_node_interactivity = \"all\"\n",
    "\n",
    "raw_data = pd.read_csv('titanic-data.csv')"
   ]
  },
  {
   "cell_type": "markdown",
   "metadata": {},
   "source": [
    "Reading the contents of the file and storing it in a pandas data frame. \n",
    "\n",
    "Describing the data:"
   ]
  },
  {
   "cell_type": "code",
   "execution_count": 330,
   "metadata": {
    "collapsed": false
   },
   "outputs": [
    {
     "data": {
      "text/plain": [
       "array(['PassengerId', 'Survived', 'Pclass', 'Name', 'Sex', 'Age', 'SibSp',\n",
       "       'Parch', 'Ticket', 'Fare', 'Cabin', 'Embarked'], dtype=object)"
      ]
     },
     "execution_count": 330,
     "metadata": {},
     "output_type": "execute_result"
    },
    {
     "data": {
      "text/plain": [
       "PassengerId      int64\n",
       "Survived         int64\n",
       "Pclass           int64\n",
       "Name            object\n",
       "Sex             object\n",
       "Age            float64\n",
       "SibSp            int64\n",
       "Parch            int64\n",
       "Ticket          object\n",
       "Fare           float64\n",
       "Cabin           object\n",
       "Embarked        object\n",
       "dtype: object"
      ]
     },
     "execution_count": 330,
     "metadata": {},
     "output_type": "execute_result"
    },
    {
     "data": {
      "text/html": [
       "<div>\n",
       "<table border=\"1\" class=\"dataframe\">\n",
       "  <thead>\n",
       "    <tr style=\"text-align: right;\">\n",
       "      <th></th>\n",
       "      <th>PassengerId</th>\n",
       "      <th>Survived</th>\n",
       "      <th>Pclass</th>\n",
       "      <th>Name</th>\n",
       "      <th>Sex</th>\n",
       "      <th>Age</th>\n",
       "      <th>SibSp</th>\n",
       "      <th>Parch</th>\n",
       "      <th>Ticket</th>\n",
       "      <th>Fare</th>\n",
       "      <th>Cabin</th>\n",
       "      <th>Embarked</th>\n",
       "    </tr>\n",
       "  </thead>\n",
       "  <tbody>\n",
       "    <tr>\n",
       "      <th>0</th>\n",
       "      <td>1</td>\n",
       "      <td>0</td>\n",
       "      <td>3</td>\n",
       "      <td>Braund, Mr. Owen Harris</td>\n",
       "      <td>male</td>\n",
       "      <td>22.0</td>\n",
       "      <td>1</td>\n",
       "      <td>0</td>\n",
       "      <td>A/5 21171</td>\n",
       "      <td>7.2500</td>\n",
       "      <td>NaN</td>\n",
       "      <td>S</td>\n",
       "    </tr>\n",
       "    <tr>\n",
       "      <th>1</th>\n",
       "      <td>2</td>\n",
       "      <td>1</td>\n",
       "      <td>1</td>\n",
       "      <td>Cumings, Mrs. John Bradley (Florence Briggs Th...</td>\n",
       "      <td>female</td>\n",
       "      <td>38.0</td>\n",
       "      <td>1</td>\n",
       "      <td>0</td>\n",
       "      <td>PC 17599</td>\n",
       "      <td>71.2833</td>\n",
       "      <td>C85</td>\n",
       "      <td>C</td>\n",
       "    </tr>\n",
       "    <tr>\n",
       "      <th>2</th>\n",
       "      <td>3</td>\n",
       "      <td>1</td>\n",
       "      <td>3</td>\n",
       "      <td>Heikkinen, Miss. Laina</td>\n",
       "      <td>female</td>\n",
       "      <td>26.0</td>\n",
       "      <td>0</td>\n",
       "      <td>0</td>\n",
       "      <td>STON/O2. 3101282</td>\n",
       "      <td>7.9250</td>\n",
       "      <td>NaN</td>\n",
       "      <td>S</td>\n",
       "    </tr>\n",
       "    <tr>\n",
       "      <th>3</th>\n",
       "      <td>4</td>\n",
       "      <td>1</td>\n",
       "      <td>1</td>\n",
       "      <td>Futrelle, Mrs. Jacques Heath (Lily May Peel)</td>\n",
       "      <td>female</td>\n",
       "      <td>35.0</td>\n",
       "      <td>1</td>\n",
       "      <td>0</td>\n",
       "      <td>113803</td>\n",
       "      <td>53.1000</td>\n",
       "      <td>C123</td>\n",
       "      <td>S</td>\n",
       "    </tr>\n",
       "    <tr>\n",
       "      <th>4</th>\n",
       "      <td>5</td>\n",
       "      <td>0</td>\n",
       "      <td>3</td>\n",
       "      <td>Allen, Mr. William Henry</td>\n",
       "      <td>male</td>\n",
       "      <td>35.0</td>\n",
       "      <td>0</td>\n",
       "      <td>0</td>\n",
       "      <td>373450</td>\n",
       "      <td>8.0500</td>\n",
       "      <td>NaN</td>\n",
       "      <td>S</td>\n",
       "    </tr>\n",
       "  </tbody>\n",
       "</table>\n",
       "</div>"
      ],
      "text/plain": [
       "   PassengerId  Survived  Pclass  \\\n",
       "0            1         0       3   \n",
       "1            2         1       1   \n",
       "2            3         1       3   \n",
       "3            4         1       1   \n",
       "4            5         0       3   \n",
       "\n",
       "                                                Name     Sex   Age  SibSp  \\\n",
       "0                            Braund, Mr. Owen Harris    male  22.0      1   \n",
       "1  Cumings, Mrs. John Bradley (Florence Briggs Th...  female  38.0      1   \n",
       "2                             Heikkinen, Miss. Laina  female  26.0      0   \n",
       "3       Futrelle, Mrs. Jacques Heath (Lily May Peel)  female  35.0      1   \n",
       "4                           Allen, Mr. William Henry    male  35.0      0   \n",
       "\n",
       "   Parch            Ticket     Fare Cabin Embarked  \n",
       "0      0         A/5 21171   7.2500   NaN        S  \n",
       "1      0          PC 17599  71.2833   C85        C  \n",
       "2      0  STON/O2. 3101282   7.9250   NaN        S  \n",
       "3      0            113803  53.1000  C123        S  \n",
       "4      0            373450   8.0500   NaN        S  "
      ]
     },
     "execution_count": 330,
     "metadata": {},
     "output_type": "execute_result"
    },
    {
     "data": {
      "text/html": [
       "<div>\n",
       "<table border=\"1\" class=\"dataframe\">\n",
       "  <thead>\n",
       "    <tr style=\"text-align: right;\">\n",
       "      <th></th>\n",
       "      <th>PassengerId</th>\n",
       "      <th>Survived</th>\n",
       "      <th>Pclass</th>\n",
       "      <th>Age</th>\n",
       "      <th>SibSp</th>\n",
       "      <th>Parch</th>\n",
       "      <th>Fare</th>\n",
       "    </tr>\n",
       "  </thead>\n",
       "  <tbody>\n",
       "    <tr>\n",
       "      <th>count</th>\n",
       "      <td>891.000000</td>\n",
       "      <td>891.000000</td>\n",
       "      <td>891.000000</td>\n",
       "      <td>714.000000</td>\n",
       "      <td>891.000000</td>\n",
       "      <td>891.000000</td>\n",
       "      <td>891.000000</td>\n",
       "    </tr>\n",
       "    <tr>\n",
       "      <th>mean</th>\n",
       "      <td>446.000000</td>\n",
       "      <td>0.383838</td>\n",
       "      <td>2.308642</td>\n",
       "      <td>29.699118</td>\n",
       "      <td>0.523008</td>\n",
       "      <td>0.381594</td>\n",
       "      <td>32.204208</td>\n",
       "    </tr>\n",
       "    <tr>\n",
       "      <th>std</th>\n",
       "      <td>257.353842</td>\n",
       "      <td>0.486592</td>\n",
       "      <td>0.836071</td>\n",
       "      <td>14.526497</td>\n",
       "      <td>1.102743</td>\n",
       "      <td>0.806057</td>\n",
       "      <td>49.693429</td>\n",
       "    </tr>\n",
       "    <tr>\n",
       "      <th>min</th>\n",
       "      <td>1.000000</td>\n",
       "      <td>0.000000</td>\n",
       "      <td>1.000000</td>\n",
       "      <td>0.420000</td>\n",
       "      <td>0.000000</td>\n",
       "      <td>0.000000</td>\n",
       "      <td>0.000000</td>\n",
       "    </tr>\n",
       "    <tr>\n",
       "      <th>25%</th>\n",
       "      <td>223.500000</td>\n",
       "      <td>0.000000</td>\n",
       "      <td>2.000000</td>\n",
       "      <td>20.125000</td>\n",
       "      <td>0.000000</td>\n",
       "      <td>0.000000</td>\n",
       "      <td>7.910400</td>\n",
       "    </tr>\n",
       "    <tr>\n",
       "      <th>50%</th>\n",
       "      <td>446.000000</td>\n",
       "      <td>0.000000</td>\n",
       "      <td>3.000000</td>\n",
       "      <td>28.000000</td>\n",
       "      <td>0.000000</td>\n",
       "      <td>0.000000</td>\n",
       "      <td>14.454200</td>\n",
       "    </tr>\n",
       "    <tr>\n",
       "      <th>75%</th>\n",
       "      <td>668.500000</td>\n",
       "      <td>1.000000</td>\n",
       "      <td>3.000000</td>\n",
       "      <td>38.000000</td>\n",
       "      <td>1.000000</td>\n",
       "      <td>0.000000</td>\n",
       "      <td>31.000000</td>\n",
       "    </tr>\n",
       "    <tr>\n",
       "      <th>max</th>\n",
       "      <td>891.000000</td>\n",
       "      <td>1.000000</td>\n",
       "      <td>3.000000</td>\n",
       "      <td>80.000000</td>\n",
       "      <td>8.000000</td>\n",
       "      <td>6.000000</td>\n",
       "      <td>512.329200</td>\n",
       "    </tr>\n",
       "  </tbody>\n",
       "</table>\n",
       "</div>"
      ],
      "text/plain": [
       "       PassengerId    Survived      Pclass         Age       SibSp  \\\n",
       "count   891.000000  891.000000  891.000000  714.000000  891.000000   \n",
       "mean    446.000000    0.383838    2.308642   29.699118    0.523008   \n",
       "std     257.353842    0.486592    0.836071   14.526497    1.102743   \n",
       "min       1.000000    0.000000    1.000000    0.420000    0.000000   \n",
       "25%     223.500000    0.000000    2.000000   20.125000    0.000000   \n",
       "50%     446.000000    0.000000    3.000000   28.000000    0.000000   \n",
       "75%     668.500000    1.000000    3.000000   38.000000    1.000000   \n",
       "max     891.000000    1.000000    3.000000   80.000000    8.000000   \n",
       "\n",
       "            Parch        Fare  \n",
       "count  891.000000  891.000000  \n",
       "mean     0.381594   32.204208  \n",
       "std      0.806057   49.693429  \n",
       "min      0.000000    0.000000  \n",
       "25%      0.000000    7.910400  \n",
       "50%      0.000000   14.454200  \n",
       "75%      0.000000   31.000000  \n",
       "max      6.000000  512.329200  "
      ]
     },
     "execution_count": 330,
     "metadata": {},
     "output_type": "execute_result"
    }
   ],
   "source": [
    "raw_data.columns.values #Columns within the data set\n",
    "raw_data.dtypes\n",
    "raw_data.head()\n",
    "raw_data.describe()\n",
    "\n",
    "\n",
    "#['Sex'].plot(kind='bar')"
   ]
  },
  {
   "cell_type": "markdown",
   "metadata": {},
   "source": [
    "Data consists of 12 columns and 891 rows. Essentially, the data for 891 passengers who were on-board 'The Titanic' on that fateful night. We would like to dive a bit deeper into the data to understand the distribution of passengers on some of the key parameters like 'Pclass' (Passenger Class), 'Age','Sex', 'SibSp' (Number of Siblings on board),'Parch' (Number of Parents/ Children onboard), and 'Embark' (Port of Embarkation). \n",
    "\n",
    "The variable 'Ticket' would give us more idea about who all were travelling together (to account for Nannies, Mistresses, etc). 'Fare' could be a dervied metric and should be correlated with the 'Pclass' and the port of embarkment (Assumption). 'Cabin' could also give us more idea about how passengers were bunked together.\n",
    "\n",
    "To start with, we need to check for NaNs across all columns."
   ]
  },
  {
   "cell_type": "markdown",
   "metadata": {},
   "source": [
    "## Checking for missing values & fixing them"
   ]
  },
  {
   "cell_type": "code",
   "execution_count": 331,
   "metadata": {
    "collapsed": false
   },
   "outputs": [
    {
     "name": "stdout",
     "output_type": "stream",
     "text": [
      "NaNs in PassengerId =  0\n",
      "NaNs in Survived =  0\n",
      "NaNs in Pclass =  0\n",
      "Empty Values in Name =  0\n",
      "Empty Values in Sex =  0\n",
      "NaNs in Age =  177\n",
      "NaNs in SibSp =  0\n",
      "NaNs in Parch =  0\n",
      "Empty Values in Ticket =  0\n",
      "NaNs in Fare =  0\n",
      "Empty Values in Cabin =  687\n",
      "Empty Values in Embarked =  2\n"
     ]
    }
   ],
   "source": [
    "print 'NaNs in PassengerId = ',pd.isnull(raw_data['PassengerId']).sum()\n",
    "print 'NaNs in Survived = ',pd.isnull(raw_data['Survived']).sum()\n",
    "print 'NaNs in Pclass = ',pd.isnull(raw_data['Pclass']).sum()\n",
    "print 'Empty Values in Name = ',pd.isnull(raw_data['Name']).sum()\n",
    "print 'Empty Values in Sex = ',pd.isnull(raw_data['Sex']).sum()\n",
    "print 'NaNs in Age = ',pd.isnull(raw_data['Age']).sum()\n",
    "print 'NaNs in SibSp = ',pd.isnull(raw_data['SibSp']).sum()\n",
    "print 'NaNs in Parch = ',pd.isnull(raw_data['Parch']).sum()\n",
    "print 'Empty Values in Ticket = ',pd.isnull(raw_data['Ticket']).sum()\n",
    "print 'NaNs in Fare = ',pd.isnull(raw_data['Fare']).sum()\n",
    "print 'Empty Values in Cabin = ',pd.isnull(raw_data['Cabin']).sum()\n",
    "print 'Empty Values in Embarked = ', pd.isnull(raw_data['Embarked']).sum()"
   ]
  },
  {
   "cell_type": "markdown",
   "metadata": {
    "collapsed": true
   },
   "source": [
    "So, there are some NaNs in Age, Cabin, and Embarked which we need to account for. Apart from that, the data looks clean. Let's look at the rows where Embarked is null."
   ]
  },
  {
   "cell_type": "code",
   "execution_count": 332,
   "metadata": {
    "collapsed": false
   },
   "outputs": [
    {
     "data": {
      "text/html": [
       "<div>\n",
       "<table border=\"1\" class=\"dataframe\">\n",
       "  <thead>\n",
       "    <tr style=\"text-align: right;\">\n",
       "      <th></th>\n",
       "      <th>PassengerId</th>\n",
       "      <th>Survived</th>\n",
       "      <th>Pclass</th>\n",
       "      <th>Name</th>\n",
       "      <th>Sex</th>\n",
       "      <th>Age</th>\n",
       "      <th>SibSp</th>\n",
       "      <th>Parch</th>\n",
       "      <th>Ticket</th>\n",
       "      <th>Fare</th>\n",
       "      <th>Cabin</th>\n",
       "      <th>Embarked</th>\n",
       "    </tr>\n",
       "  </thead>\n",
       "  <tbody>\n",
       "    <tr>\n",
       "      <th>61</th>\n",
       "      <td>62</td>\n",
       "      <td>1</td>\n",
       "      <td>1</td>\n",
       "      <td>Icard, Miss. Amelie</td>\n",
       "      <td>female</td>\n",
       "      <td>38.0</td>\n",
       "      <td>0</td>\n",
       "      <td>0</td>\n",
       "      <td>113572</td>\n",
       "      <td>80.0</td>\n",
       "      <td>B28</td>\n",
       "      <td>NaN</td>\n",
       "    </tr>\n",
       "    <tr>\n",
       "      <th>829</th>\n",
       "      <td>830</td>\n",
       "      <td>1</td>\n",
       "      <td>1</td>\n",
       "      <td>Stone, Mrs. George Nelson (Martha Evelyn)</td>\n",
       "      <td>female</td>\n",
       "      <td>62.0</td>\n",
       "      <td>0</td>\n",
       "      <td>0</td>\n",
       "      <td>113572</td>\n",
       "      <td>80.0</td>\n",
       "      <td>B28</td>\n",
       "      <td>NaN</td>\n",
       "    </tr>\n",
       "  </tbody>\n",
       "</table>\n",
       "</div>"
      ],
      "text/plain": [
       "     PassengerId  Survived  Pclass                                       Name  \\\n",
       "61            62         1       1                        Icard, Miss. Amelie   \n",
       "829          830         1       1  Stone, Mrs. George Nelson (Martha Evelyn)   \n",
       "\n",
       "        Sex   Age  SibSp  Parch  Ticket  Fare Cabin Embarked  \n",
       "61   female  38.0      0      0  113572  80.0   B28      NaN  \n",
       "829  female  62.0      0      0  113572  80.0   B28      NaN  "
      ]
     },
     "execution_count": 332,
     "metadata": {},
     "output_type": "execute_result"
    }
   ],
   "source": [
    "raw_data[pd.isnull(raw_data['Embarked'])]"
   ]
  },
  {
   "cell_type": "markdown",
   "metadata": {},
   "source": [
    "Two passengers with no information on 'port of embarkation'. Seems like a data error. However, given that these are just two rows, we can choose to ignore these missing values and handle them if we encounter any issues.\n",
    "\n",
    "How about the null values in 'Cabin'? Is there any pattern on the Nulls? More concentrated towards a particular gender? Or Pclass? Or a combination of both?"
   ]
  },
  {
   "cell_type": "code",
   "execution_count": 333,
   "metadata": {
    "collapsed": false
   },
   "outputs": [
    {
     "data": {
      "text/plain": [
       "<matplotlib.text.Text at 0x38a8a438>"
      ]
     },
     "execution_count": 333,
     "metadata": {},
     "output_type": "execute_result"
    },
    {
     "data": {
      "text/plain": [
       "<matplotlib.text.Text at 0x386d8940>"
      ]
     },
     "execution_count": 333,
     "metadata": {},
     "output_type": "execute_result"
    },
    {
     "data": {
      "image/png": "[encoded data removed]",
      "text/plain": [
       "<matplotlib.figure.Figure at 0x300c85f8>"
      ]
     },
     "metadata": {},
     "output_type": "display_data"
    }
   ],
   "source": [
    "y=raw_data\n",
    "y['isnullcabin'] = pd.isnull(y['Cabin']) #creating a new column to check if cabin column is null\n",
    "tps = y.pivot_table(values=['Freq'], \n",
    "                      index=['Pclass','isnullcabin'],\n",
    "                      columns = 'Sex',\n",
    "                      aggfunc=np.size)\n",
    "tps.reset_index(inplace=True)\n",
    "\n",
    "fig, (ax1, ax2) = plt.subplots(ncols=2, sharey=True)\n",
    "sns.barplot(data=tps, hue='isnullcabin', x='Pclass', y='female', ax=ax1).set_ylabel('Count of females')\n",
    "sns.barplot(data=tps, hue='isnullcabin', x='Pclass', y='male', ax=ax2).set_ylabel('Count of males')"
   ]
  },
  {
   "cell_type": "markdown",
   "metadata": {},
   "source": [
    "It looks like the field is empty not because of some data aberration but because people travelling in lower classes did not have cabins. Given that the absence of values in itself gives us some information about the passengers, it is safe to not bother about the missing values. How about Age?"
   ]
  },
  {
   "cell_type": "code",
   "execution_count": 334,
   "metadata": {
    "collapsed": false
   },
   "outputs": [
    {
     "data": {
      "text/plain": [
       "<matplotlib.text.Text at 0x3853fd30>"
      ]
     },
     "execution_count": 334,
     "metadata": {},
     "output_type": "execute_result"
    },
    {
     "data": {
      "text/plain": [
       "<matplotlib.text.Text at 0x38455e80>"
      ]
     },
     "execution_count": 334,
     "metadata": {},
     "output_type": "execute_result"
    },
    {
     "data": {
      "image/png": "[encoded data removed]",
      "text/plain": [
       "<matplotlib.figure.Figure at 0x38683400>"
      ]
     },
     "metadata": {},
     "output_type": "display_data"
    }
   ],
   "source": [
    "#raw_data[pd.isnull(raw_data['Age'])].groupby(['Sex','Pclass'], as_index=False).size()\n",
    "\n",
    "\n",
    "y=raw_data\n",
    "y['isnullage'] = pd.isnull(y['Age']) # new column to check if the 'Age' column in null\n",
    "tps = y.pivot_table(values=['Freq'], \n",
    "                      index=['Pclass','isnullage'],\n",
    "                      columns = 'Sex',\n",
    "                      aggfunc=np.size)\n",
    "tps.reset_index(inplace=True)\n",
    "\n",
    "fig, (ax1, ax2) = plt.subplots(ncols=2, sharey=True)\n",
    "sns.barplot(data=tps, hue='isnullage', x='Pclass', y='female', ax=ax1).set_ylabel('Count of females')\n",
    "sns.barplot(data=tps, hue='isnullage', x='Pclass', y='male', ax=ax2).set_ylabel('Count of males')\n"
   ]
  },
  {
   "cell_type": "markdown",
   "metadata": {},
   "source": [
    "We do need to find a fix for these missing values as they are a consirable fraction of the total subset. This will help us in describing and grouping various variables together. Fixing the missing values for Age using the fillna function. Replacing missing values with average age."
   ]
  },
  {
   "cell_type": "code",
   "execution_count": 335,
   "metadata": {
    "collapsed": false
   },
   "outputs": [],
   "source": [
    "raw_data['Age'].fillna(raw_data['Age'].mean(),inplace=True)"
   ]
  },
  {
   "cell_type": "code",
   "execution_count": 336,
   "metadata": {
    "collapsed": false
   },
   "outputs": [
    {
     "data": {
      "text/html": [
       "<div>\n",
       "<table border=\"1\" class=\"dataframe\">\n",
       "  <thead>\n",
       "    <tr style=\"text-align: right;\">\n",
       "      <th></th>\n",
       "      <th>PassengerId</th>\n",
       "      <th>Survived</th>\n",
       "      <th>Pclass</th>\n",
       "      <th>Age</th>\n",
       "      <th>SibSp</th>\n",
       "      <th>Parch</th>\n",
       "      <th>Fare</th>\n",
       "    </tr>\n",
       "  </thead>\n",
       "  <tbody>\n",
       "    <tr>\n",
       "      <th>count</th>\n",
       "      <td>891.000000</td>\n",
       "      <td>891.000000</td>\n",
       "      <td>891.000000</td>\n",
       "      <td>891.000000</td>\n",
       "      <td>891.000000</td>\n",
       "      <td>891.000000</td>\n",
       "      <td>891.000000</td>\n",
       "    </tr>\n",
       "    <tr>\n",
       "      <th>mean</th>\n",
       "      <td>446.000000</td>\n",
       "      <td>0.383838</td>\n",
       "      <td>2.308642</td>\n",
       "      <td>29.699118</td>\n",
       "      <td>0.523008</td>\n",
       "      <td>0.381594</td>\n",
       "      <td>32.204208</td>\n",
       "    </tr>\n",
       "    <tr>\n",
       "      <th>std</th>\n",
       "      <td>257.353842</td>\n",
       "      <td>0.486592</td>\n",
       "      <td>0.836071</td>\n",
       "      <td>13.002015</td>\n",
       "      <td>1.102743</td>\n",
       "      <td>0.806057</td>\n",
       "      <td>49.693429</td>\n",
       "    </tr>\n",
       "    <tr>\n",
       "      <th>min</th>\n",
       "      <td>1.000000</td>\n",
       "      <td>0.000000</td>\n",
       "      <td>1.000000</td>\n",
       "      <td>0.420000</td>\n",
       "      <td>0.000000</td>\n",
       "      <td>0.000000</td>\n",
       "      <td>0.000000</td>\n",
       "    </tr>\n",
       "    <tr>\n",
       "      <th>25%</th>\n",
       "      <td>223.500000</td>\n",
       "      <td>0.000000</td>\n",
       "      <td>2.000000</td>\n",
       "      <td>22.000000</td>\n",
       "      <td>0.000000</td>\n",
       "      <td>0.000000</td>\n",
       "      <td>7.910400</td>\n",
       "    </tr>\n",
       "    <tr>\n",
       "      <th>50%</th>\n",
       "      <td>446.000000</td>\n",
       "      <td>0.000000</td>\n",
       "      <td>3.000000</td>\n",
       "      <td>29.699118</td>\n",
       "      <td>0.000000</td>\n",
       "      <td>0.000000</td>\n",
       "      <td>14.454200</td>\n",
       "    </tr>\n",
       "    <tr>\n",
       "      <th>75%</th>\n",
       "      <td>668.500000</td>\n",
       "      <td>1.000000</td>\n",
       "      <td>3.000000</td>\n",
       "      <td>35.000000</td>\n",
       "      <td>1.000000</td>\n",
       "      <td>0.000000</td>\n",
       "      <td>31.000000</td>\n",
       "    </tr>\n",
       "    <tr>\n",
       "      <th>max</th>\n",
       "      <td>891.000000</td>\n",
       "      <td>1.000000</td>\n",
       "      <td>3.000000</td>\n",
       "      <td>80.000000</td>\n",
       "      <td>8.000000</td>\n",
       "      <td>6.000000</td>\n",
       "      <td>512.329200</td>\n",
       "    </tr>\n",
       "  </tbody>\n",
       "</table>\n",
       "</div>"
      ],
      "text/plain": [
       "       PassengerId    Survived      Pclass         Age       SibSp  \\\n",
       "count   891.000000  891.000000  891.000000  891.000000  891.000000   \n",
       "mean    446.000000    0.383838    2.308642   29.699118    0.523008   \n",
       "std     257.353842    0.486592    0.836071   13.002015    1.102743   \n",
       "min       1.000000    0.000000    1.000000    0.420000    0.000000   \n",
       "25%     223.500000    0.000000    2.000000   22.000000    0.000000   \n",
       "50%     446.000000    0.000000    3.000000   29.699118    0.000000   \n",
       "75%     668.500000    1.000000    3.000000   35.000000    1.000000   \n",
       "max     891.000000    1.000000    3.000000   80.000000    8.000000   \n",
       "\n",
       "            Parch        Fare  \n",
       "count  891.000000  891.000000  \n",
       "mean     0.381594   32.204208  \n",
       "std      0.806057   49.693429  \n",
       "min      0.000000    0.000000  \n",
       "25%      0.000000    7.910400  \n",
       "50%      0.000000   14.454200  \n",
       "75%      0.000000   31.000000  \n",
       "max      6.000000  512.329200  "
      ]
     },
     "execution_count": 336,
     "metadata": {},
     "output_type": "execute_result"
    }
   ],
   "source": [
    "raw_data.describe()"
   ]
  },
  {
   "cell_type": "markdown",
   "metadata": {},
   "source": [
    "## 3 Exploratory Analysis"
   ]
  },
  {
   "cell_type": "markdown",
   "metadata": {
    "collapsed": false
   },
   "source": [
    "Now, having cleaned up the data, we are all set to analyse. The key question we are answering here is:\n",
    "\n",
    "> ** *What are the characteristics of passengers who survived the ordeal? * **\n",
    "\n",
    "Eyeballing the data, (and with a little bit of common sense, and repeated viewings of the movie 'Titanic') gives us an intuition that 'women and children' would have been evacuated the first and hence would have higher chances of survival. Further, people staying in the bottommost part of the ship would have found it difficult to flee or they would not have got enough time to respond (Mostly the people travelling in 3rd class)\n",
    "\n",
    "Also, by extension of the same logic, people travelling in first class are more likely to have escaped (the fact that their cabins were further up, and the preference they would have got understandably)\n",
    "\n",
    "Lets start by looking at some individual metrics:\n",
    "\n",
    "We start by looking at the sample statistic - overall survival rate:"
   ]
  },
  {
   "cell_type": "code",
   "execution_count": 337,
   "metadata": {
    "collapsed": false
   },
   "outputs": [
    {
     "data": {
      "text/plain": [
       "0.38383838383838381"
      ]
     },
     "execution_count": 337,
     "metadata": {},
     "output_type": "execute_result"
    }
   ],
   "source": [
    "raw_data['Survived'].describe()['mean']"
   ]
  },
  {
   "cell_type": "markdown",
   "metadata": {},
   "source": [
    "A Mean of 0.38 which means that if this subset was actually the list of passengers travelling on Titanic, 38% of the people would have survived. Does this statistic vary by different subgroups? Let's first start with 'Sex': "
   ]
  },
  {
   "cell_type": "markdown",
   "metadata": {},
   "source": [
    "## 3.1 Sex"
   ]
  },
  {
   "cell_type": "code",
   "execution_count": 338,
   "metadata": {
    "collapsed": false
   },
   "outputs": [
    {
     "data": {
      "text/plain": [
       "<matplotlib.text.Text at 0x37e04e80>"
      ]
     },
     "execution_count": 338,
     "metadata": {},
     "output_type": "execute_result"
    },
    {
     "data": {
      "text/plain": [
       "<matplotlib.text.Text at 0x37d19cc0>"
      ]
     },
     "execution_count": 338,
     "metadata": {},
     "output_type": "execute_result"
    },
    {
     "data": {
      "image/png": "[encoded data removed]",
      "text/plain": [
       "<matplotlib.figure.Figure at 0x2c1489e8>"
      ]
     },
     "metadata": {},
     "output_type": "display_data"
    }
   ],
   "source": [
    "a=raw_data.groupby('Sex').mean()['Survived'].plot(kind='bar')\n",
    "a.set_ylabel(\"Average Survival\")\n",
    "a.set_title(\"Survival by gender\")\n",
    "#raw_data.groupby('Sex').size()"
   ]
  },
  {
   "cell_type": "markdown",
   "metadata": {},
   "source": [
    "Yes, women were indeed rescued first. Can we also look at childen (age<15 yrs)? We start by adding a column 'Children' by checking for the age and if its is less than 18. Do note that there were some rows which were empty and we used average values to fix them - hence this might not be a correct representation and would be just an approximation."
   ]
  },
  {
   "cell_type": "markdown",
   "metadata": {},
   "source": [
    "## 3.2 Age"
   ]
  },
  {
   "cell_type": "code",
   "execution_count": 339,
   "metadata": {
    "collapsed": false
   },
   "outputs": [
    {
     "data": {
      "text/plain": [
       "<matplotlib.text.Text at 0x38c56ac8>"
      ]
     },
     "execution_count": 339,
     "metadata": {},
     "output_type": "execute_result"
    },
    {
     "data": {
      "text/plain": [
       "<matplotlib.text.Text at 0x37d19f98>"
      ]
     },
     "execution_count": 339,
     "metadata": {},
     "output_type": "execute_result"
    },
    {
     "data": {
      "text/plain": [
       "<matplotlib.text.Text at 0x37ab7630>"
      ]
     },
     "execution_count": 339,
     "metadata": {},
     "output_type": "execute_result"
    },
    {
     "data": {
      "text/plain": [
       "Children\n",
       "False    778\n",
       "True     113\n",
       "dtype: int64"
      ]
     },
     "execution_count": 339,
     "metadata": {},
     "output_type": "execute_result"
    },
    {
     "data": {
      "image/png": "[encoded data removed]",
      "text/plain": [
       "<matplotlib.figure.Figure at 0x393c5400>"
      ]
     },
     "metadata": {},
     "output_type": "display_data"
    }
   ],
   "source": [
    "raw_data['Children'] = (raw_data['Age'] <18)\n",
    "a=raw_data.groupby('Children').mean()['Survived'].plot(kind='bar')\n",
    "a.set_ylabel('Mean Survival Rate')\n",
    "a.set_xlabel('Is Age<18')\n",
    "a.set_title('Survival Rate - Children vs Adults')\n",
    "raw_data.groupby('Children').size()\n",
    "#plt.plot(raw_data.groupby('Age',as_index=False).mean()['Age'], raw_data.groupby('Age',as_index=False).mean()['Survived'])"
   ]
  },
  {
   "cell_type": "markdown",
   "metadata": {},
   "source": [
    "As we see above, Children of ages less than 18 did survive at means greater than the rest of the population. Let's see if we can look at the combined view of 'Women or Children'"
   ]
  },
  {
   "cell_type": "markdown",
   "metadata": {},
   "source": [
    "## 3.3 Women OR Children"
   ]
  },
  {
   "cell_type": "code",
   "execution_count": 340,
   "metadata": {
    "collapsed": false
   },
   "outputs": [
    {
     "data": {
      "text/plain": [
       "<matplotlib.text.Text at 0x379e8860>"
      ]
     },
     "execution_count": 340,
     "metadata": {},
     "output_type": "execute_result"
    },
    {
     "data": {
      "text/plain": [
       "<matplotlib.text.Text at 0x379aad30>"
      ]
     },
     "execution_count": 340,
     "metadata": {},
     "output_type": "execute_result"
    },
    {
     "data": {
      "text/plain": [
       "<matplotlib.text.Text at 0x37ae0eb8>"
      ]
     },
     "execution_count": 340,
     "metadata": {},
     "output_type": "execute_result"
    },
    {
     "data": {
      "text/plain": [
       "WomenOrChildren\n",
       "False    519\n",
       "True     372\n",
       "dtype: int64"
      ]
     },
     "execution_count": 340,
     "metadata": {},
     "output_type": "execute_result"
    },
    {
     "data": {
      "image/png": "[encoded data removed]",
      "text/plain": [
       "<matplotlib.figure.Figure at 0x37a46fd0>"
      ]
     },
     "metadata": {},
     "output_type": "display_data"
    }
   ],
   "source": [
    "raw_data['WomenOrChildren'] = ((raw_data['Sex']=='female') | (raw_data['Children']==True))\n",
    "a=raw_data.groupby('WomenOrChildren').mean()['Survived'].plot(kind='bar')\n",
    "a.set_ylabel('Average Survival')\n",
    "a.set_title('Women OR Children')\n",
    "a.set_xlabel('Was passenger a woman or <18 years old?')\n",
    "raw_data.groupby('WomenOrChildren').size()"
   ]
  },
  {
   "cell_type": "markdown",
   "metadata": {},
   "source": [
    "Indeed! Women and Children were the first ones to be evacuated as seen from the above plot."
   ]
  },
  {
   "cell_type": "markdown",
   "metadata": {},
   "source": [
    "## 3.4 Travelling with families"
   ]
  },
  {
   "cell_type": "markdown",
   "metadata": {},
   "source": [
    "We will next investigate the effect of people travelling with families. There are two variables in the data:\n",
    "\n",
    ">  -  SibSp - # of siblings on board\n",
    ">  -  Parch - # of parents or children on board\n",
    "\n",
    "We can further create a new variable SiborPar to calculate teh family size."
   ]
  },
  {
   "cell_type": "code",
   "execution_count": 342,
   "metadata": {
    "collapsed": false
   },
   "outputs": [
    {
     "data": {
      "text/plain": [
       "<matplotlib.text.Text at 0x30f4aa58>"
      ]
     },
     "execution_count": 342,
     "metadata": {},
     "output_type": "execute_result"
    },
    {
     "data": {
      "text/plain": [
       "<matplotlib.text.Text at 0x34ae19b0>"
      ]
     },
     "execution_count": 342,
     "metadata": {},
     "output_type": "execute_result"
    },
    {
     "data": {
      "text/plain": [
       "<matplotlib.text.Text at 0x35d913c8>"
      ]
     },
     "execution_count": 342,
     "metadata": {},
     "output_type": "execute_result"
    },
    {
     "data": {
      "image/png": "[encoded data removed]",
      "text/plain": [
       "<matplotlib.figure.Figure at 0x377d2400>"
      ]
     },
     "metadata": {},
     "output_type": "display_data"
    }
   ],
   "source": [
    "#plt.scatter(raw_data.groupby(['SibSp'],as_index=False).mean()['SibSp'], raw_data.groupby(['SibSp'])['Survived'].mean()) \n",
    "x=raw_data.groupby(['SibSp'],as_index=False).mean()\n",
    "y=raw_data.groupby(['Parch'],as_index=False).mean()\n",
    "raw_data['SiborPar'] = raw_data['SibSp'] + raw_data['Parch']\n",
    "z=raw_data.groupby(['SiborPar'], as_index=False).mean()\n",
    "\n",
    "fig, (ax1, ax2, ax3) = plt.subplots(ncols=3, sharey=True)\n",
    "a= sns.barplot(data=x, x='SibSp', y='Survived', ax=ax1).set_ylabel('Mean Survival Rate')\n",
    "b= sns.barplot(data=y, x='Parch', y = 'Survived', ax=ax2)\n",
    "b.set_ylabel('Mean Survival Rate')\n",
    "b.set_title('Surival Rate - Effect of families')\n",
    "sns.barplot(data=z, x='SiborPar', y = 'Survived', ax=ax3).set_ylabel('Mean Survival Rate')"
   ]
  },
  {
   "cell_type": "markdown",
   "metadata": {},
   "source": [
    "The plot gives us some idea about three possible hypotheses - \n",
    "-  survivability increases if a passenger was travelling with atleast one family memeber vs None\n",
    "\n",
    "-  more the number of siblings - lower the chances of survival.\n",
    "\n",
    "-  When SiborPar (or family size) is greater than 3, survivability falls drastically\n",
    "\n",
    "But, correlation does not imply causation. We havent explored other variables yet (I have a gut feeling that the family size is also linked to the 'Pclass'). Let's look at that particular combination:"
   ]
  },
  {
   "cell_type": "code",
   "execution_count": 343,
   "metadata": {
    "collapsed": false
   },
   "outputs": [
    {
     "data": {
      "text/plain": [
       "<seaborn.axisgrid.FacetGrid at 0x37e430f0>"
      ]
     },
     "execution_count": 343,
     "metadata": {},
     "output_type": "execute_result"
    },
    {
     "data": {
      "text/plain": [
       "<seaborn.axisgrid.FacetGrid at 0x37e430f0>"
      ]
     },
     "execution_count": 343,
     "metadata": {},
     "output_type": "execute_result"
    },
    {
     "data": {
      "text/plain": [
       "<seaborn.axisgrid.FacetGrid at 0x37e430f0>"
      ]
     },
     "execution_count": 343,
     "metadata": {},
     "output_type": "execute_result"
    },
    {
     "data": {
      "image/png": "[encoded data removed]",
      "text/plain": [
       "<matplotlib.figure.Figure at 0x39a033c8>"
      ]
     },
     "metadata": {},
     "output_type": "display_data"
    }
   ],
   "source": [
    "x=raw_data.groupby(['SiborPar', 'Pclass'],as_index=False).mean()\n",
    "aa=sns.FacetGrid(x, col='Pclass')\n",
    "aa.map(sns.barplot, 'SiborPar', 'Survived')\n",
    "aa.set_titles(col_template='Pclass = ' + '{col_name}')\n",
    "aa.set_ylabels('Mean Survival Rate')"
   ]
  },
  {
   "cell_type": "markdown",
   "metadata": {},
   "source": [
    "From the above chart (n=number of family members on board):\n",
    "-  For all classes: survivability increases with number of family members travelling\n",
    "-  For first class: dips at n=3, but still greater than n=0\n",
    "-  For third class: the means are much lower than first and second classes. \n",
    "\n",
    "We can further refine the above chart by looking at 'Women or children' vs 'Others'. Below chart tries to incorporate that:\n"
   ]
  },
  {
   "cell_type": "code",
   "execution_count": 344,
   "metadata": {
    "collapsed": false
   },
   "outputs": [
    {
     "data": {
      "text/plain": [
       "<seaborn.axisgrid.FacetGrid at 0x3a228f28>"
      ]
     },
     "execution_count": 344,
     "metadata": {},
     "output_type": "execute_result"
    },
    {
     "data": {
      "text/plain": [
       "<seaborn.axisgrid.FacetGrid at 0x3a228f28>"
      ]
     },
     "execution_count": 344,
     "metadata": {},
     "output_type": "execute_result"
    },
    {
     "data": {
      "text/plain": [
       "<seaborn.axisgrid.FacetGrid at 0x3a228f28>"
      ]
     },
     "execution_count": 344,
     "metadata": {},
     "output_type": "execute_result"
    },
    {
     "data": {
      "text/plain": [
       "<seaborn.axisgrid.FacetGrid at 0x3a228f28>"
      ]
     },
     "execution_count": 344,
     "metadata": {},
     "output_type": "execute_result"
    },
    {
     "data": {
      "image/png": "[encoded data removed]",
      "text/plain": [
       "<matplotlib.figure.Figure at 0x379bc6d8>"
      ]
     },
     "metadata": {},
     "output_type": "display_data"
    }
   ],
   "source": [
    "x=raw_data.groupby(['SiborPar', 'Pclass', 'WomenOrChildren'],as_index=False).mean()\n",
    "aa=sns.FacetGrid(x, col='Pclass', row='WomenOrChildren', margin_titles=True)\n",
    "aa.map(sns.barplot, 'SiborPar', 'Survived')\n",
    "aa.set_titles(col_template='Pclass = ' + '{col_name}')\n",
    "aa.set_ylabels('Mean Survival Rate')\n",
    "aa.set_xlabels('# of family members')"
   ]
  },
  {
   "cell_type": "markdown",
   "metadata": {},
   "source": [
    "The above chart gives intersting insights:\n",
    "-  For first : survival rates are almost equal to 1. This could be because we have sliced the data so many times that we have single element segments. Nevertheles, it does give us some important observations.\n",
    "-  For second class and third class 'Women or Children' segment, the insights are consistent with what we saw before: survival rates increases with n\n",
    "-  For adult males, survivability is at very low levels for second class and third class passengers"
   ]
  },
  {
   "cell_type": "markdown",
   "metadata": {},
   "source": [
    "## 3.5 Passenger Class and port of embarkation"
   ]
  },
  {
   "cell_type": "markdown",
   "metadata": {},
   "source": [
    "Even though we have looked at 'Pclass' in preceding sections, we would want to analyse the variable independently."
   ]
  },
  {
   "cell_type": "code",
   "execution_count": 345,
   "metadata": {
    "collapsed": false
   },
   "outputs": [
    {
     "data": {
      "text/plain": [
       "<matplotlib.text.Text at 0x3a60d748>"
      ]
     },
     "execution_count": 345,
     "metadata": {},
     "output_type": "execute_result"
    },
    {
     "data": {
      "text/plain": [
       "<matplotlib.text.Text at 0x3b030470>"
      ]
     },
     "execution_count": 345,
     "metadata": {},
     "output_type": "execute_result"
    },
    {
     "data": {
      "text/plain": [
       "<matplotlib.text.Text at 0x3b580e10>"
      ]
     },
     "execution_count": 345,
     "metadata": {},
     "output_type": "execute_result"
    },
    {
     "data": {
      "image/png": "[encoded data removed]",
      "text/plain": [
       "<matplotlib.figure.Figure at 0x38683a58>"
      ]
     },
     "metadata": {},
     "output_type": "display_data"
    }
   ],
   "source": [
    "x= raw_data.groupby(['Pclass']).mean()['Survived'].plot(kind='bar')\n",
    "x.set_ylabel('Mean Survival Rate')\n",
    "x.set_xlabel('Passenger Class')\n",
    "x.set_title('Pclass vs survival')\n"
   ]
  },
  {
   "cell_type": "code",
   "execution_count": 346,
   "metadata": {
    "collapsed": false
   },
   "outputs": [
    {
     "data": {
      "text/plain": [
       "<matplotlib.text.Text at 0x3a7fdac8>"
      ]
     },
     "execution_count": 346,
     "metadata": {},
     "output_type": "execute_result"
    },
    {
     "data": {
      "text/plain": [
       "<matplotlib.text.Text at 0x3a7fdac8>"
      ]
     },
     "execution_count": 346,
     "metadata": {},
     "output_type": "execute_result"
    },
    {
     "data": {
      "text/plain": [
       "<matplotlib.text.Text at 0x3b7c3048>"
      ]
     },
     "execution_count": 346,
     "metadata": {},
     "output_type": "execute_result"
    },
    {
     "data": {
      "image/png": "[encoded data removed]",
      "text/plain": [
       "<matplotlib.figure.Figure at 0x3b66d0b8>"
      ]
     },
     "metadata": {},
     "output_type": "display_data"
    }
   ],
   "source": [
    "x=raw_data.groupby('Embarked').mean()['Survived'].plot(kind='bar')\n",
    "x.set_ylabel('Mean Survival Rate')\n",
    "x.set_ylabel('Port of Embarkation')\n",
    "x.set_title('Port of Embarkation vs Survival Rate')"
   ]
  },
  {
   "cell_type": "markdown",
   "metadata": {},
   "source": [
    "Pclass variable shows that 1st class passengers were more likely to survive as compared to 2nd and 3rd class. Also, passengers who embarked from port 'C' were more likey to survive. Do we see some kind of correlation here? Let's check if most of the 1st class passengers boarded from port 'C'"
   ]
  },
  {
   "cell_type": "code",
   "execution_count": 347,
   "metadata": {
    "collapsed": false
   },
   "outputs": [
    {
     "data": {
      "text/plain": [
       "<matplotlib.text.Text at 0x3b9ac400>"
      ]
     },
     "execution_count": 347,
     "metadata": {},
     "output_type": "execute_result"
    },
    {
     "data": {
      "text/plain": [
       "<matplotlib.text.Text at 0x3b0702e8>"
      ]
     },
     "execution_count": 347,
     "metadata": {},
     "output_type": "execute_result"
    },
    {
     "data": {
      "text/plain": [
       "<matplotlib.text.Text at 0x3b9d5e80>"
      ]
     },
     "execution_count": 347,
     "metadata": {},
     "output_type": "execute_result"
    },
    {
     "data": {
      "image/png": "[encoded data removed]",
      "text/plain": [
       "<matplotlib.figure.Figure at 0x3750e6a0>"
      ]
     },
     "metadata": {},
     "output_type": "display_data"
    }
   ],
   "source": [
    "p_table = pd.pivot_table(raw_data, index = 'Embarked', columns = 'Pclass', aggfunc='size')\n",
    "p_table = p_table.div(p_table.sum(axis=1)*.01, axis=0)\n",
    "x=p_table.plot.bar(stacked=True)\n",
    "x.set_ylabel('Percentage')\n",
    "x.set_xlabel('Port of Embarkation')\n",
    "x.set_title('Split of passengers by Pclass and Embark')"
   ]
  },
  {
   "cell_type": "markdown",
   "metadata": {},
   "source": [
    "So, about 50 percent of the people who embarked at port 'C' belonged to first class. Still doesnt tell us much. We will assume that the port of embarkation has no direct relation with the survivability of passengers"
   ]
  },
  {
   "cell_type": "markdown",
   "metadata": {},
   "source": [
    "# 4. Feature Engineering"
   ]
  },
  {
   "cell_type": "markdown",
   "metadata": {},
   "source": [
    "## 4.1 Travelling together (and not just families)"
   ]
  },
  {
   "cell_type": "markdown",
   "metadata": {},
   "source": [
    "Moving on, there are other columns in the data 'Cabin' and 'Ticket'. Many of these rows have nulls, but we can derive much more information using these columns. For e.g. we can assume that people bunked in the same 'Cabin' or travelling on the same 'Ticket' number were travelling together. This might give us some more information other than 'SibSp' and 'Parch' as some of the relations have been ignored in these variables. Let's combine all these variables into one single column 'Together' which would be True if either of the following conditions are met:\n",
    "\n",
    "-  Parch>=1\n",
    "-  Sibsp>=1\n",
    "-  Ticket number matches with another passenger\n",
    "-  Cabin number matches with another passenger"
   ]
  },
  {
   "cell_type": "code",
   "execution_count": 348,
   "metadata": {
    "collapsed": false
   },
   "outputs": [
    {
     "data": {
      "text/plain": [
       "<matplotlib.text.Text at 0x3bbdb320>"
      ]
     },
     "execution_count": 348,
     "metadata": {},
     "output_type": "execute_result"
    },
    {
     "data": {
      "text/plain": [
       "<matplotlib.text.Text at 0x3bca5908>"
      ]
     },
     "execution_count": 348,
     "metadata": {},
     "output_type": "execute_result"
    },
    {
     "data": {
      "text/plain": [
       "<matplotlib.text.Text at 0x3bcc70b8>"
      ]
     },
     "execution_count": 348,
     "metadata": {},
     "output_type": "execute_result"
    },
    {
     "data": {
      "image/png": "[encoded data removed]",
      "text/plain": [
       "<matplotlib.figure.Figure at 0x3b66d080>"
      ]
     },
     "metadata": {},
     "output_type": "display_data"
    }
   ],
   "source": [
    "\n",
    "new=[]\n",
    "new2=[]\n",
    "\n",
    "for row in raw_data.itertuples():\n",
    "    comparev= row[9]\n",
    "    count = 0\n",
    "    for rowz in raw_data.itertuples():\n",
    "        if rowz[9]==comparev:\n",
    "            count = count+1\n",
    "    if count > 1:\n",
    "        new.append(True)\n",
    "    else:\n",
    "        new.append(False)\n",
    "\n",
    "for row in raw_data.itertuples():\n",
    "    comparev= row[11]\n",
    "    count = 0\n",
    "    for rowz in raw_data.itertuples():\n",
    "        if rowz[11]==comparev:\n",
    "            count = count+1\n",
    "    if count > 1:\n",
    "        new2.append(True)\n",
    "    else:\n",
    "        new2.append(False)\n",
    "\n",
    "check = ((raw_data['SibSp']>0) | (raw_data['Parch']>0) | new | new2)\n",
    "raw_data['Together']=check\n",
    "x=raw_data.groupby(['Together']).mean()['Survived'].plot(kind='bar')\n",
    "x.set_ylabel('Mean Survival Rate')\n",
    "x.set_xlabel('Travelling together?')\n",
    "x.set_title('Solo vs non-solo traveller')"
   ]
  },
  {
   "cell_type": "markdown",
   "metadata": {},
   "source": [
    "Did we really improve anything? Are we able to identify the survivors based on this newly created column? Probably. The mean survival rate of passengers clubbed under the column 'Travelling together' is close to 0.5 versus the sample mean of 0.38 and that of solo travellers at ~0.25. Let's stry slicing up the data even more:"
   ]
  },
  {
   "cell_type": "code",
   "execution_count": 324,
   "metadata": {
    "collapsed": false
   },
   "outputs": [
    {
     "data": {
      "text/plain": [
       "<seaborn.axisgrid.FacetGrid at 0x37ce50b8>"
      ]
     },
     "execution_count": 324,
     "metadata": {},
     "output_type": "execute_result"
    },
    {
     "data": {
      "text/plain": [
       "<seaborn.axisgrid.FacetGrid at 0x37ce50b8>"
      ]
     },
     "execution_count": 324,
     "metadata": {},
     "output_type": "execute_result"
    },
    {
     "data": {
      "image/png": "[encoded data removed]",
      "text/plain": [
       "<matplotlib.figure.Figure at 0x37cb1f28>"
      ]
     },
     "metadata": {},
     "output_type": "display_data"
    }
   ],
   "source": [
    "x=raw_data.groupby(['Together','Sex','Pclass'], as_index=False).mean()\n",
    "p = sns.FacetGrid(x, col = 'Pclass', row='Sex', margin_titles = True)\n",
    "p.map(sns.barplot, 'Together', 'Survived')\n",
    "(p.set_axis_labels('Travelling together?', 'Mean Survival Rate')\n",
    ".set_titles( row_template = '                           ', col_template = 'Pclass = ' + '{col_name}'))"
   ]
  },
  {
   "cell_type": "markdown",
   "metadata": {},
   "source": [
    "From the above chart, except for females travelling in third class, survivability does increase as compared to travelling solo. We should probably use our variable 'WomenOrchildren' instead of just 'Sex'"
   ]
  },
  {
   "cell_type": "code",
   "execution_count": 349,
   "metadata": {
    "collapsed": false
   },
   "outputs": [
    {
     "data": {
      "text/plain": [
       "<seaborn.axisgrid.FacetGrid at 0x3b347128>"
      ]
     },
     "execution_count": 349,
     "metadata": {},
     "output_type": "execute_result"
    },
    {
     "data": {
      "image/png": "[encoded data removed]",
      "text/plain": [
       "<matplotlib.figure.Figure at 0x3b9ca358>"
      ]
     },
     "metadata": {},
     "output_type": "display_data"
    }
   ],
   "source": [
    "z=raw_data.groupby(['WomenOrChildren','Pclass','Together'], as_index=False).mean()\n",
    "gg=sns.FacetGrid(z, row='WomenOrChildren', col='Pclass', margin_titles=True)\n",
    "gg.map(sns.barplot, 'Together','Survived')"
   ]
  },
  {
   "cell_type": "markdown",
   "metadata": {},
   "source": [
    "Still the same insight: women or children travelling in third class were better off travelling alone rather than with co-passengers."
   ]
  },
  {
   "cell_type": "markdown",
   "metadata": {},
   "source": [
    "To conclude:\n",
    "\n",
    ">Women or Children who were travelling together were in general more probable to survive except for the 3rd class passengers where the chances of them surviving if they were travelling alone was higher. Men were in general less likely to survive; however their survivablility also increases when they are travelling together (except for second class passengers)"
   ]
  },
  {
   "cell_type": "markdown",
   "metadata": {},
   "source": [
    "## 4.2 Passengers with Noble titles"
   ]
  },
  {
   "cell_type": "markdown",
   "metadata": {},
   "source": [
    "Based on this article (http://trevorstephens.com/kaggle-titanic-tutorial/r-part-4-feature-engineering/), we can add an additional dimension to our data by looking at the titles in the 'Name' columns. The below code extracts the information about titles and family names and adds it back to the raw_data"
   ]
  },
  {
   "cell_type": "code",
   "execution_count": 350,
   "metadata": {
    "collapsed": false
   },
   "outputs": [],
   "source": [
    "def extract_title(name_input):\n",
    "    f1=name_input.find(',')\n",
    "    family_name = name_input[:f1]\n",
    "    name_input=name_input[f1+2:]\n",
    "    f2=name_input.find(\".\")\n",
    "    title1=name_input[:f2]\n",
    "    return title1\n",
    "\n",
    "def extract_family(name_input):\n",
    "    f1=name_input.find(',')\n",
    "    family_name = name_input[:f1]\n",
    "    name_input=name_input[f1+2:]\n",
    "    f2=name_input.find(\".\")\n",
    "    title1=name_input[:f2]\n",
    "    return family_name\n",
    "\n",
    "raw_data['Title']= raw_data['Name'].apply(extract_title)\n",
    "raw_data['family_name'] = raw_data['Name'].apply(extract_family)"
   ]
  },
  {
   "cell_type": "markdown",
   "metadata": {},
   "source": [
    "Next we try segregating the 'Noble' titles and look at the survival metrics:"
   ]
  },
  {
   "cell_type": "code",
   "execution_count": 351,
   "metadata": {
    "collapsed": false
   },
   "outputs": [
    {
     "data": {
      "text/html": [
       "<div>\n",
       "<table border=\"1\" class=\"dataframe\">\n",
       "  <thead>\n",
       "    <tr style=\"text-align: right;\">\n",
       "      <th></th>\n",
       "      <th>PassengerId</th>\n",
       "      <th>Survived</th>\n",
       "      <th>Pclass</th>\n",
       "      <th>Name</th>\n",
       "      <th>Sex</th>\n",
       "      <th>Age</th>\n",
       "      <th>SibSp</th>\n",
       "      <th>Parch</th>\n",
       "      <th>Ticket</th>\n",
       "      <th>Fare</th>\n",
       "      <th>...</th>\n",
       "      <th>Embarked</th>\n",
       "      <th>isnullcabin</th>\n",
       "      <th>isnullage</th>\n",
       "      <th>Children</th>\n",
       "      <th>WomenOrChildren</th>\n",
       "      <th>SiborPar</th>\n",
       "      <th>Together</th>\n",
       "      <th>Title</th>\n",
       "      <th>family_name</th>\n",
       "      <th>Noble</th>\n",
       "    </tr>\n",
       "  </thead>\n",
       "  <tbody>\n",
       "    <tr>\n",
       "      <th>30</th>\n",
       "      <td>31</td>\n",
       "      <td>0</td>\n",
       "      <td>1</td>\n",
       "      <td>Uruchurtu, Don. Manuel E</td>\n",
       "      <td>male</td>\n",
       "      <td>40.0</td>\n",
       "      <td>0</td>\n",
       "      <td>0</td>\n",
       "      <td>PC 17601</td>\n",
       "      <td>27.7208</td>\n",
       "      <td>...</td>\n",
       "      <td>C</td>\n",
       "      <td>True</td>\n",
       "      <td>False</td>\n",
       "      <td>False</td>\n",
       "      <td>False</td>\n",
       "      <td>0</td>\n",
       "      <td>False</td>\n",
       "      <td>Don</td>\n",
       "      <td>Uruchurtu</td>\n",
       "      <td>True</td>\n",
       "    </tr>\n",
       "    <tr>\n",
       "      <th>149</th>\n",
       "      <td>150</td>\n",
       "      <td>0</td>\n",
       "      <td>2</td>\n",
       "      <td>Byles, Rev. Thomas Roussel Davids</td>\n",
       "      <td>male</td>\n",
       "      <td>42.0</td>\n",
       "      <td>0</td>\n",
       "      <td>0</td>\n",
       "      <td>244310</td>\n",
       "      <td>13.0000</td>\n",
       "      <td>...</td>\n",
       "      <td>S</td>\n",
       "      <td>True</td>\n",
       "      <td>False</td>\n",
       "      <td>False</td>\n",
       "      <td>False</td>\n",
       "      <td>0</td>\n",
       "      <td>False</td>\n",
       "      <td>Rev</td>\n",
       "      <td>Byles</td>\n",
       "      <td>True</td>\n",
       "    </tr>\n",
       "    <tr>\n",
       "      <th>150</th>\n",
       "      <td>151</td>\n",
       "      <td>0</td>\n",
       "      <td>2</td>\n",
       "      <td>Bateman, Rev. Robert James</td>\n",
       "      <td>male</td>\n",
       "      <td>51.0</td>\n",
       "      <td>0</td>\n",
       "      <td>0</td>\n",
       "      <td>S.O.P. 1166</td>\n",
       "      <td>12.5250</td>\n",
       "      <td>...</td>\n",
       "      <td>S</td>\n",
       "      <td>True</td>\n",
       "      <td>False</td>\n",
       "      <td>False</td>\n",
       "      <td>False</td>\n",
       "      <td>0</td>\n",
       "      <td>False</td>\n",
       "      <td>Rev</td>\n",
       "      <td>Bateman</td>\n",
       "      <td>True</td>\n",
       "    </tr>\n",
       "    <tr>\n",
       "      <th>245</th>\n",
       "      <td>246</td>\n",
       "      <td>0</td>\n",
       "      <td>1</td>\n",
       "      <td>Minahan, Dr. William Edward</td>\n",
       "      <td>male</td>\n",
       "      <td>44.0</td>\n",
       "      <td>2</td>\n",
       "      <td>0</td>\n",
       "      <td>19928</td>\n",
       "      <td>90.0000</td>\n",
       "      <td>...</td>\n",
       "      <td>Q</td>\n",
       "      <td>False</td>\n",
       "      <td>False</td>\n",
       "      <td>False</td>\n",
       "      <td>False</td>\n",
       "      <td>2</td>\n",
       "      <td>True</td>\n",
       "      <td>Dr</td>\n",
       "      <td>Minahan</td>\n",
       "      <td>True</td>\n",
       "    </tr>\n",
       "    <tr>\n",
       "      <th>249</th>\n",
       "      <td>250</td>\n",
       "      <td>0</td>\n",
       "      <td>2</td>\n",
       "      <td>Carter, Rev. Ernest Courtenay</td>\n",
       "      <td>male</td>\n",
       "      <td>54.0</td>\n",
       "      <td>1</td>\n",
       "      <td>0</td>\n",
       "      <td>244252</td>\n",
       "      <td>26.0000</td>\n",
       "      <td>...</td>\n",
       "      <td>S</td>\n",
       "      <td>True</td>\n",
       "      <td>False</td>\n",
       "      <td>False</td>\n",
       "      <td>False</td>\n",
       "      <td>1</td>\n",
       "      <td>True</td>\n",
       "      <td>Rev</td>\n",
       "      <td>Carter</td>\n",
       "      <td>True</td>\n",
       "    </tr>\n",
       "  </tbody>\n",
       "</table>\n",
       "<p>5 rows × 21 columns</p>\n",
       "</div>"
      ],
      "text/plain": [
       "     PassengerId  Survived  Pclass                               Name   Sex  \\\n",
       "30            31         0       1           Uruchurtu, Don. Manuel E  male   \n",
       "149          150         0       2  Byles, Rev. Thomas Roussel Davids  male   \n",
       "150          151         0       2         Bateman, Rev. Robert James  male   \n",
       "245          246         0       1        Minahan, Dr. William Edward  male   \n",
       "249          250         0       2      Carter, Rev. Ernest Courtenay  male   \n",
       "\n",
       "      Age  SibSp  Parch       Ticket     Fare  ...  Embarked isnullcabin  \\\n",
       "30   40.0      0      0     PC 17601  27.7208  ...         C        True   \n",
       "149  42.0      0      0       244310  13.0000  ...         S        True   \n",
       "150  51.0      0      0  S.O.P. 1166  12.5250  ...         S        True   \n",
       "245  44.0      2      0        19928  90.0000  ...         Q       False   \n",
       "249  54.0      1      0       244252  26.0000  ...         S        True   \n",
       "\n",
       "    isnullage Children WomenOrChildren SiborPar  Together Title family_name  \\\n",
       "30      False    False           False        0     False   Don   Uruchurtu   \n",
       "149     False    False           False        0     False   Rev       Byles   \n",
       "150     False    False           False        0     False   Rev     Bateman   \n",
       "245     False    False           False        2      True    Dr     Minahan   \n",
       "249     False    False           False        1      True   Rev      Carter   \n",
       "\n",
       "    Noble  \n",
       "30   True  \n",
       "149  True  \n",
       "150  True  \n",
       "245  True  \n",
       "249  True  \n",
       "\n",
       "[5 rows x 21 columns]"
      ]
     },
     "execution_count": 351,
     "metadata": {},
     "output_type": "execute_result"
    }
   ],
   "source": [
    "raw_data['Noble']=~raw_data['Title'].isin(['Master','Miss','Mr','Mrs','Ms'])\n",
    "raw_data[raw_data['Noble']].head()"
   ]
  },
  {
   "cell_type": "code",
   "execution_count": 352,
   "metadata": {
    "collapsed": false
   },
   "outputs": [
    {
     "data": {
      "text/plain": [
       "2.9180695847362514"
      ]
     },
     "execution_count": 352,
     "metadata": {},
     "output_type": "execute_result"
    },
    {
     "data": {
      "text/plain": [
       "Noble\n",
       "False    0.382659\n",
       "True     0.423077\n",
       "Name: Survived, dtype: float64"
      ]
     },
     "execution_count": 352,
     "metadata": {},
     "output_type": "execute_result"
    }
   ],
   "source": [
    "raw_data['Noble'].sum()*100.0/ raw_data['Noble'].count()\n",
    "raw_data.groupby(['Noble']).mean()['Survived']"
   ]
  },
  {
   "cell_type": "markdown",
   "metadata": {},
   "source": [
    "Even though, we did manage to add an additional dimension, it is a very small percentage (<3%) of the entire data set and which does not even have an exceptional impact on survival rates. However, we might want to look at the dimension in conjunction with other factors (like age, or gender, etc). For the sake of simplicity, we will not pursure this any further"
   ]
  },
  {
   "cell_type": "markdown",
   "metadata": {},
   "source": [
    "#  4. Conclusions"
   ]
  },
  {
   "cell_type": "markdown",
   "metadata": {},
   "source": [
    "While we have investigated the data across couple of dimensions, some of them (dimensions) make more sense than others while trying to find a relation with survivability. Some of the key insights are:\n",
    "\n",
    ">  -  The survivability increases when passengers are travelling together with family members, or friends\n",
    "\n",
    ">  -  Chances of survival are higher for the subsegment 'Women or Children' (Children are all passengers below the age of 18)\n",
    "\n",
    ">  -  First class passengers were more likely to survive than second class who were more likely to survive than the third class passengers\n",
    "\n",
    ">  -  Port of embarkation is correlated to the passenger class and has no direct relation with survivability\n",
    "\n",
    "The key chart that one would want to look for would be:"
   ]
  },
  {
   "cell_type": "code",
   "execution_count": 353,
   "metadata": {
    "collapsed": false
   },
   "outputs": [
    {
     "data": {
      "text/plain": [
       "<seaborn.axisgrid.FacetGrid at 0x3bfed550>"
      ]
     },
     "execution_count": 353,
     "metadata": {},
     "output_type": "execute_result"
    },
    {
     "data": {
      "image/png": "[encoded data removed]",
      "text/plain": [
       "<matplotlib.figure.Figure at 0x3bfed978>"
      ]
     },
     "metadata": {},
     "output_type": "display_data"
    }
   ],
   "source": [
    "z=raw_data.groupby(['WomenOrChildren','Pclass','Together'], as_index=False).mean()\n",
    "gg=sns.FacetGrid(z, row='WomenOrChildren', col='Pclass', margin_titles=True)\n",
    "gg.map(sns.barplot, 'Together','Survived')"
   ]
  },
  {
   "cell_type": "markdown",
   "metadata": {
    "collapsed": true
   },
   "source": [
    "# 4. Limitations"
   ]
  },
  {
   "cell_type": "markdown",
   "metadata": {
    "collapsed": true
   },
   "source": [
    "- We have been making assumptions about the data without conducting any t-tests or z-tests. Sometimes, samples are not the correct representation of the population and hence tests need to be conducted in order to make assumptions with reasonable confidence levels. We have ignored this particular part in our analysis\n",
    "\n",
    "\n",
    "- There were missing values in our data (the 'Age' column) which we chose to replace with sample means. This was just to make sure that we do not omit values while analysing the data as we would like to look at the entire subset while making assumptions. The insight around the 'Age' dimension may not be the accurate representation of the data as we slice the subset further on other dimensions. But, it is a tradeoff we have to live with.\n",
    "\n",
    "\n",
    "- While we investigated the data, we were mindful of the spurious correlations (like our assumption on port of embarkment's relation with survivability). Most of the correlations we have investigated do seem to hold water as they seem logical. However, it is difficult to say, just from the data, the difference between correlation and causation. Some sort of logical and contextual reasoning needs to be taken into account for making assumptions."
   ]
  },
  {
   "cell_type": "markdown",
   "metadata": {
    "collapsed": true
   },
   "source": [
    "# 5. Reflections"
   ]
  },
  {
   "cell_type": "markdown",
   "metadata": {
    "collapsed": true
   },
   "source": [
    "While we tried to look at all possible dimensions present in the data, there is no such thing as 'enough ' data. We could certainly use more information around \n",
    "\n",
    "-  how close were each cabins to the exit points\n",
    "-  how close were the cabins to the plane of rupture\n",
    "-  Information if a particular passenger was disabled\n",
    "-  Information on whether a passenger was a crew member\n",
    "-  Information on medical conditions of passengers (very optimistic ask, but still a plausible dimension to determine whether a passenger would have panicked or held their nerves after the ship hit the iceberg)\n",
    "\n",
    "The above are just examples of how additional information can help us make our analysis even better. \n",
    "\n",
    "The next steps would probably to build predictive models with the given data set and try to test them against the with-held data. This would help us validate our assumptions and understand the correlations much better."
   ]
  }
 ],
 "metadata": {
  "anaconda-cloud": {},
  "kernelspec": {
   "display_name": "Python 2",
   "language": "python",
   "name": "python2"
  },
  "language_info": {
   "codemirror_mode": {
    "name": "ipython",
    "version": 2
   },
   "file_extension": ".py",
   "mimetype": "text/x-python",
   "name": "python",
   "nbconvert_exporter": "python",
   "pygments_lexer": "ipython2",
   "version": "2.7.13"
  }
 },
 "nbformat": 4,
 "nbformat_minor": 0
}
